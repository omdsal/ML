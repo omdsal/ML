{
 "cells": [
  {
   "cell_type": "code",
   "execution_count": null,
   "id": "3faff43d-820a-44da-8ff2-36b69adbd5a8",
   "metadata": {},
   "outputs": [],
   "source": [
    "Name : Omkar Hulawale\n",
    "Roll_no : 14153\n",
    "Batch : A3"
   ]
  },
  {
   "cell_type": "code",
   "execution_count": null,
   "id": "60152329",
   "metadata": {},
   "outputs": [],
   "source": [
    "import pandas as pd\n",
    "import numpy as np\n",
    "import seaborn as sns\n",
    "import matplotlib.pyplot as plt\n",
    "\n",
    "from sklearn.cluster import KMeans\n",
    "from sklearn.decomposition import PCA\n",
    "\n",
    "# Load dataset\n",
    "df = pd.read_csv(\"sales_data_sample.csv\", encoding=\"Latin-1\")\n",
    "\n",
    "# Display initial rows\n",
    "df.head()"
   ]
  },
  {
   "cell_type": "code",
   "execution_count": null,
   "id": "222d77a0",
   "metadata": {},
   "outputs": [],
   "source": [
    "# Shape of dataset\n",
    "df.shape"
   ]
  },
  {
   "cell_type": "code",
   "execution_count": null,
   "id": "592b8043",
   "metadata": {},
   "outputs": [],
   "source": [
    "# Summary statistics\n",
    "df.describe()"
   ]
  },
  {
   "cell_type": "code",
   "execution_count": null,
   "id": "fad04792",
   "metadata": {},
   "outputs": [],
   "source": [
    "# Information about dataset\n",
    "df.info()"
   ]
  },
  {
   "cell_type": "code",
   "execution_count": null,
   "id": "369b9956",
   "metadata": {},
   "outputs": [],
   "source": [
    "# Check missing values\n",
    "df.isnull().sum()"
   ]
  },
  {
   "cell_type": "code",
   "execution_count": null,
   "id": "44f4a756",
   "metadata": {},
   "outputs": [],
   "source": [
    "# Drop unnecessary columns\n",
    "df_drop = ['ADDRESSLINE1', 'ADDRESSLINE2', 'STATUS', 'POSTALCODE', 'CITY']\n",
    "df = df.drop(df_drop, axis=1)\n",
    "\n",
    "# Verify missing values after dropping\n",
    "df.isnull().sum()"
   ]
  },
  {
   "cell_type": "code",
   "execution_count": null,
   "id": "b34ff93a",
   "metadata": {},
   "outputs": [],
   "source": [
    "# Check datatypes\n",
    "df.dtypes"
   ]
  },
  {
   "cell_type": "code",
   "execution_count": null,
   "id": "98ec568a",
   "metadata": {},
   "outputs": [],
   "source": [
    "# Unique values in important categorical columns\n",
    "print(df['COUNTRY'].unique())\n",
    "print(df['PRODUCTLINE'].unique())\n",
    "print(df['DEALSIZE'].unique())"
   ]
  },
  {
   "cell_type": "code",
   "execution_count": null,
   "id": "1e7f0e96",
   "metadata": {},
   "outputs": [],
   "source": [
    "# One-hot encoding for categorical variables\n",
    "productline = pd.get_dummies(df['PRODUCTLINE'])\n",
    "Dealsize = pd.get_dummies(df['DEALSIZE'])\n",
    "\n",
    "df = pd.concat([df, productline, Dealsize], axis=1)\n",
    "\n",
    "# Drop original categorical columns\n",
    "df_drop = ['COUNTRY', 'PRODUCTLINE', 'DEALSIZE']\n",
    "df = df.drop(df_drop, axis=1)\n",
    "\n",
    "# Encode PRODUCTCODE\n",
    "df['PRODUCTCODE'] = pd.Categorical(df['PRODUCTCODE']).codes\n",
    "\n",
    "# Drop ORDERDATE column\n",
    "df.drop('ORDERDATE', axis=1, inplace=True)\n",
    "\n",
    "df.dtypes"
   ]
  },
  {
   "cell_type": "code",
   "execution_count": null,
   "id": "d507f366",
   "metadata": {},
   "outputs": [],
   "source": [
    "# Elbow Method for optimal clusters\n",
    "distortions = []\n",
    "K = range(1, 10)\n",
    "for k in K:\n",
    "    kmeanModel = KMeans(n_clusters=k, random_state=42)\n",
    "    kmeanModel.fit(df)\n",
    "    distortions.append(kmeanModel.inertia_)\n",
    "\n",
    "plt.figure(figsize=(8,5))\n",
    "plt.plot(K, distortions, 'bx-')\n",
    "plt.xlabel('K')\n",
    "plt.ylabel('Distortion')\n",
    "plt.title('The Elbow Method showing the optimal k')\n",
    "plt.show()"
   ]
  },
  {
   "cell_type": "code",
   "execution_count": null,
   "id": "bb16f182",
   "metadata": {},
   "outputs": [],
   "source": [
    "# Train KMeans model with 3 clusters\n",
    "x_train = df.values\n",
    "print(x_train.shape)\n",
    "\n",
    "model = KMeans(n_clusters=3, random_state=2)\n",
    "model = model.fit(x_train)\n",
    "predictions = model.predict(x_train)\n",
    "\n",
    "# Cluster counts\n",
    "unique, counts = np.unique(predictions, return_counts=True)\n",
    "counts_df = pd.DataFrame(counts.reshape(1,3), columns=['Cluster1','Cluster2','Cluster3'])\n",
    "counts_df.head()"
   ]
  },
  {
   "cell_type": "code",
   "execution_count": null,
   "id": "2e98ba75",
   "metadata": {},
   "outputs": [],
   "source": [
    "# PCA for dimensionality reduction\n",
    "pca = PCA(n_components=2)\n",
    "reduced_X = pd.DataFrame(pca.fit_transform(x_train), columns=['PCA1','PCA2'])\n",
    "reduced_X.head()"
   ]
  }
 ],
 "metadata": {
  "kernelspec": {
   "display_name": "Python 3 (ipykernel)",
   "language": "python",
   "name": "python3"
  },
  "language_info": {
   "codemirror_mode": {
    "name": "ipython",
    "version": 3
   },
   "file_extension": ".py",
   "mimetype": "text/x-python",
   "name": "python",
   "nbconvert_exporter": "python",
   "pygments_lexer": "ipython3",
   "version": "3.12.4"
  }
 },
 "nbformat": 4,
 "nbformat_minor": 5
}
